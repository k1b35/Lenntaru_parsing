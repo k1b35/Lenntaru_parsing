{
  "nbformat": 4,
  "nbformat_minor": 0,
  "metadata": {
    "colab": {
      "provenance": []
    },
    "kernelspec": {
      "name": "python3",
      "display_name": "Python 3"
    },
    "language_info": {
      "name": "python"
    }
  },
  "cells": [
    {
      "cell_type": "code",
      "execution_count": null,
      "metadata": {
        "id": "4gCI0_NJpuTk"
      },
      "outputs": [],
      "source": [
        "## Домашнее задание по Парсингу сайта Lenta.ru"
      ]
    },
    {
      "cell_type": "markdown",
      "source": [
        "https://lenta.ru/"
      ],
      "metadata": {
        "id": "s59FP7Tap6x6"
      }
    },
    {
      "cell_type": "markdown",
      "source": [
        "Для начала нам нужно создать новый Репозиторий на GitHub"
      ],
      "metadata": {
        "id": "FQ89RU0uqAb7"
      }
    },
    {
      "cell_type": "markdown",
      "source": [
        "https://github.com/k1b35/Lenntaru_parsing\n",
        "\n",
        "---\n",
        "\n"
      ],
      "metadata": {
        "id": "y9FW_ySxqIlY"
      }
    },
    {
      "cell_type": "markdown",
      "source": [
        "Наша задача - собрать Заголовки статей с сайта Lenta.ru то есть заголовки h3"
      ],
      "metadata": {
        "id": "ElWBr1w0oneo"
      }
    },
    {
      "cell_type": "markdown",
      "source": [],
      "metadata": {
        "id": "wO3EgwLf2cbU"
      }
    },
    {
      "cell_type": "markdown",
      "source": [
        "### Дополнительные данные"
      ],
      "metadata": {
        "id": "OOYkVxAY2gwa"
      }
    },
    {
      "cell_type": "code",
      "source": [
        "import requests\n",
        "from bs4 import BeautifulSoup\n",
        "import pandas as pd\n",
        "\n",
        "url = 'https://lenta.ru/'\n",
        "\n",
        "response = requests.get(url)\n",
        "\n",
        "if response.status_code == 200:\n",
        "    soup = BeautifulSoup(response.text, 'html.parser')\n",
        "\n",
        "    h3_titles = soup.find_all('h3', class_='card-mini__title')\n",
        "    h3_texts = [title.get_text() for title in h3_titles]\n",
        "\n",
        "    span_tags = soup.find_all('span')\n",
        "    span_texts = [span.get_text() for span in span_tags]\n",
        "\n",
        "    print(\"Первые 5 заголовков h3:\")\n",
        "    for i, headline in enumerate(h3_texts[:5], 1):\n",
        "        print(f\"{i}. {headline}\")\n",
        "\n",
        "    print(\"\\n Первые 15 текстов <span>:\")\n",
        "    for i, text in enumerate(span_texts[:15], 1):\n",
        "        print(f\"{i}. {text}\")\n",
        "\n",
        "    data = {\n",
        "        'h3_titles': h3_texts,\n",
        "        'span_texts': span_texts\n",
        "    }\n",
        "    df = pd.DataFrame(dict([(k, pd.Series(v)) for k, v in data.items()]))\n",
        "    df.to_csv('lenta__news_data.csv', index=False)\n",
        "    df.to_excel('lenta__news_data.xlsx', index=False)\n"
      ],
      "metadata": {
        "colab": {
          "base_uri": "https://localhost:8080/"
        },
        "id": "qOnNRC5MtbQz",
        "outputId": "fa19895a-8380-4a53-f526-55d148839ee4"
      },
      "execution_count": 46,
      "outputs": [
        {
          "output_type": "stream",
          "name": "stdout",
          "text": [
            "Первые 5 заголовков h3:\n",
            "1. Фицо рассказал об отношении Зеленского к транзиту газа через Украину в 2025 году\n",
            "2. В США нашли способ завершить конфликт на Украине\n",
            "3. Татьяне Ким не удалось взыскать десятки миллиардов рублей с Бакальчука\n",
            "4. Два крокодила растерзали и съели молодого человека в знаменитом национальном парке\n",
            "5. В России предложили новый способ борьбы с мошенниками\n",
            "\n",
            " Первые 15 текстов <span>:\n",
            "1. Лента добра\n",
            "2. \n",
            "3.  В оккупированной Судже остаются три тысячи беженцев. Что сейчас происходит в городе?\n",
            "4.  Как бандит из Петербурга 1990-х устроил себе красивую жизнь на Карибах, угоняя яхты на заказ?\n",
            "5.  Как SpaceX в 2024 году отправила миссию к Юпитеру и запустила самую мощную ракету в мире\n",
            "6.  Как пережить предновогодний коллапс и не выдохнуться?\n",
            "7.  Почему от него остались только кости и что говорят его родственники?\n",
            "8.  Битва за Курскую область, «Орешник» и инфляция: главные заявления Путина на прямой линии\n",
            "9.  Как всесильный глава МВД СССР мог стать легендой, но пал жертвой алчности и вражды с КГБ\n",
            "10.  Как Поклонская из символа Русской весны и защитницы царя превратилась в «колдунью»\n",
            "11.  Мужчина очнулся после комы и описал свои невероятные ощущения. Что он запомнил?\n",
            "12.  Ельцин отправлял в Чечню срочников, они сотнями попадали в плен. Что они пережили?\n",
            "13.  Почему пал режим Башара Асада и как события в Сирии изменят ситуацию на Ближнем Востоке?\n",
            "14.  Башар Асад правил Сирией 24 года. Почему он не смог удержать власть?\n",
            "15.  Почему сирийцы рады свержению Асада и что они думают о захвативших власть повстанцах?\n"
          ]
        }
      ]
    }
  ]
}