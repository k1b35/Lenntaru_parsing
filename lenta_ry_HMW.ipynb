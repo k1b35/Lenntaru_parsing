{
  "nbformat": 4,
  "nbformat_minor": 0,
  "metadata": {
    "colab": {
      "provenance": []
    },
    "kernelspec": {
      "name": "python3",
      "display_name": "Python 3"
    },
    "language_info": {
      "name": "python"
    }
  },
  "cells": [
    {
      "cell_type": "code",
      "execution_count": null,
      "metadata": {
        "id": "4gCI0_NJpuTk"
      },
      "outputs": [],
      "source": [
        "## Домашнее задание по Парсингу сайта Lenta.ru"
      ]
    },
    {
      "cell_type": "markdown",
      "source": [
        "https://lenta.ru/"
      ],
      "metadata": {
        "id": "s59FP7Tap6x6"
      }
    },
    {
      "cell_type": "markdown",
      "source": [
        "Для начала нам нужно создать новый Репозиторий на GitHub"
      ],
      "metadata": {
        "id": "FQ89RU0uqAb7"
      }
    },
    {
      "cell_type": "markdown",
      "source": [
        "https://github.com/k1b35/Lenntaru_parsing\n",
        "\n",
        "---\n",
        "\n"
      ],
      "metadata": {
        "id": "y9FW_ySxqIlY"
      }
    },
    {
      "cell_type": "markdown",
      "source": [
        "Наша задача - собрать Заголовки статей с сайта Lenta.ru то есть заголовки h3"
      ],
      "metadata": {
        "id": "ElWBr1w0oneo"
      }
    },
    {
      "cell_type": "code",
      "source": [
        "import requests\n",
        "from bs4 import BeautifulSoup\n",
        "import pandas as pd\n",
        "\n",
        "\n",
        "url = 'https://lenta.ru/'\n",
        "\n",
        "\n",
        "response = requests.get(url)\n",
        "\n",
        "if response.status_code == 200:\n",
        "    soup = BeautifulSoup(response.text, 'html.parser')\n",
        "\n",
        "    h3_titles = soup.find_all('h3')\n",
        "\n",
        "    h3_texts = [title.get_text() for title in h3_titles]\n",
        "\n",
        "    print(\"Первые 10 заголовков:\")\n",
        "    for i, headline in enumerate(h3_texts[:10], 1):\n",
        "        print(f\"{i}. {headline}\")\n",
        "\n",
        "    h3_data = pd.DataFrame(h3_texts, columns=['h3_titles'])\n",
        "    h3_data.to_csv('h3_titles.csv', index=False)\n",
        "    h3_data.to_excel('h3_titles.xlsx', index=False)\n",
        ""
      ],
      "metadata": {
        "colab": {
          "base_uri": "https://localhost:8080/"
        },
        "id": "da_mYNLDptXc",
        "outputId": "46ef7a11-90cf-4af5-a1fd-ac6ea7c52f11"
      },
      "execution_count": 40,
      "outputs": [
        {
          "output_type": "stream",
          "name": "stdout",
          "text": [
            "Первые 10 заголовков:\n",
            "1. В Венгрии увидели политическую месть в действиях США. Как Сийярто объяснил введение санкций против российского банка?\n",
            "2. В Словакии заявили о поражении Украины в конфликте с Россией\n",
            "3. В России появился ГОСТ на подарок для новорожденных\n",
            "4. Россияне назвали самые желанные новогодние подарки\n",
            "5. Apple попросит помощи в Китае у создателя TikTok\n",
            "6. Парень сделал пугающее открытие после визита сантехника к нему домой\n",
            "7. Рогов сообщил о дезертирстве украинских военных в Курахово\n",
            "8. Звезда «Эйфории» показала голую грудь на камеру\n",
            "9. Урсула фон дер Ляйен ушла от ответа на вопрос о поддержке Украины Евросоюзом\n",
            "10. Духовное управление мусульман России разрешило религиозное многоженство\n"
          ]
        }
      ]
    },
    {
      "cell_type": "code",
      "source": [],
      "metadata": {
        "id": "qOnNRC5MtbQz"
      },
      "execution_count": null,
      "outputs": []
    }
  ]
}